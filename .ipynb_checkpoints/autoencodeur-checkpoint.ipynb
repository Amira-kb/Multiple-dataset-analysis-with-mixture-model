{
 "cells": [
  {
   "cell_type": "code",
   "execution_count": null,
   "metadata": {},
   "outputs": [],
   "source": [
    "##Ce notebook contient le code Python utilisé pour crée un auto-enodeur pour chaque jeu de donnée\n",
    "\n",
    "import tensorflow as tf\n",
    "from tensorflow import keras\n",
    "import pandas as pd\n",
    "import numpy as np\n",
    "import matplotlib.pyplot as plt\n",
    "import csv"
   ]
  },
  {
   "cell_type": "code",
   "execution_count": null,
   "metadata": {},
   "outputs": [],
   "source": [
    "jx_train=pd.read_csv('jx_train.csv') #importation des jeux d'entrainement, de test et du dataset complet\n",
    "jx_test=pd.read_csv('jx_test.csv')\n",
    "jaffe=pd.read_csv('jaffe.csv')"
   ]
  },
  {
   "cell_type": "code",
   "execution_count": null,
   "metadata": {},
   "outputs": [],
   "source": [
    "jaffe.shape"
   ]
  },
  {
   "cell_type": "code",
   "execution_count": null,
   "metadata": {},
   "outputs": [],
   "source": [
    "d=np.array(jx_train)\n",
    "d[1,1]"
   ]
  },
  {
   "cell_type": "code",
   "execution_count": null,
   "metadata": {
    "scrolled": true
   },
   "outputs": [],
   "source": [
    "m = keras.models.Sequential() #creation du model et entrainement de l'autoencodeur\n",
    "m.add(keras.layers.Dense(1000,  activation='relu', input_shape=(676,)))\n",
    "m.add(keras.layers.Dense(500,  activation='relu'))\n",
    "m.add(keras.layers.Dense(250,  activation='relu'))\n",
    "m.add(keras.layers.Dense(2,    activation='linear', name=\"hidden\"))\n",
    "m.add(keras.layers.Dense(250,  activation='relu'))\n",
    "m.add(keras.layers.Dense(500,  activation='relu'))\n",
    "m.add(keras.layers.Dense(1000,  activation='relu'))\n",
    "m.add(keras.layers.Dense(676,  activation='sigmoid'))\n",
    "m.compile(loss='mean_squared_error', optimizer = keras.optimizers.Adam())\n",
    "history = m.fit(jx_train, jx_train, batch_size=32, epochs=100, verbose=1, \n",
    "                validation_data=(jx_test, jx_test))\n",
    "encoder = keras.models.Model(m.input, m.get_layer('hidden').output)\n",
    "Zenc = encoder.predict(jaffe)  # dataset reduit en n=2\n",
    "Renc = m.predict(jx_test)        # reconstruction de l'image a partir de se dataset reduit\n",
    "print(history.history.keys())"
   ]
  },
  {
   "cell_type": "code",
   "execution_count": null,
   "metadata": {},
   "outputs": [],
   "source": [
    "Zenc"
   ]
  },
  {
   "cell_type": "code",
   "execution_count": null,
   "metadata": {},
   "outputs": [],
   "source": [
    "np.savetxt(\"auto.csv\", np.array(Zenc), delimiter=\",\") #sauvegarde du resultat pour l'utiliser dans R"
   ]
  },
  {
   "cell_type": "code",
   "execution_count": null,
   "metadata": {},
   "outputs": [],
   "source": [
    "mx_train=pd.read_csv('mx_train.csv')\n",
    "mx_test=pd.read_csv('mx_test.csv')\n",
    "mnist=pd.read_csv('mnist.csv')"
   ]
  },
  {
   "cell_type": "code",
   "execution_count": null,
   "metadata": {},
   "outputs": [],
   "source": [
    "m2 = keras.models.Sequential()\n",
    "m2.add(keras.layers.Dense(1000,  activation='relu', input_shape=(784,)))\n",
    "m2.add(keras.layers.Dense(500,  activation='relu'))\n",
    "m2.add(keras.layers.Dense(250,  activation='relu'))\n",
    "m2.add(keras.layers.Dense(2,    activation='linear', name=\"hidden\"))\n",
    "m2.add(keras.layers.Dense(250,  activation='relu'))\n",
    "m2.add(keras.layers.Dense(500,  activation='relu'))\n",
    "m2.add(keras.layers.Dense(1000,  activation='relu'))\n",
    "m2.add(keras.layers.Dense(784,  activation='sigmoid'))\n",
    "m2.compile(loss='mean_squared_error', optimizer = keras.optimizers.Adam())\n",
    "history2 = m2.fit(mx_train, mx_train, batch_size=128, epochs=100, verbose=1, \n",
    "                validation_data=(mx_test, mx_test))\n",
    "encoder2 = keras.models.Model(m2.input, m2.get_layer('hidden').output)\n",
    "Zenc2 = encoder2.predict(mnist)  # dataset reduit en n=2\n",
    "Renc2 = m2.predict(mnist)        # reconstruction de l'image a partir de se dataset reduit\n",
    "print(history2.history.keys())"
   ]
  },
  {
   "cell_type": "code",
   "execution_count": null,
   "metadata": {},
   "outputs": [],
   "source": [
    "np.savetxt(\"auto2.csv\", np.array(Zenc2), delimiter=\",\")"
   ]
  },
  {
   "cell_type": "code",
   "execution_count": null,
   "metadata": {},
   "outputs": [],
   "source": [
    "mfx_train=pd.read_csv('mfx_train.csv')\n",
    "mfx_test=pd.read_csv('mfx_test.csv')\n",
    "mfeat=pd.read_csv('mfeat.csv')"
   ]
  },
  {
   "cell_type": "code",
   "execution_count": null,
   "metadata": {},
   "outputs": [],
   "source": [
    "m3 = keras.models.Sequential()\n",
    "m3.add(keras.layers.Dense(250,  activation='relu', input_shape=(240,)))\n",
    "m3.add(keras.layers.Dense(125,  activation='relu'))\n",
    "m3.add(keras.layers.Dense(62,  activation='relu'))\n",
    "m3.add(keras.layers.Dense(2,    activation='linear', name=\"hidden\"))\n",
    "m3.add(keras.layers.Dense(62,  activation='relu'))\n",
    "m3.add(keras.layers.Dense(125,  activation='relu'))\n",
    "m3.add(keras.layers.Dense(250,  activation='relu'))\n",
    "m3.add(keras.layers.Dense(240,  activation='sigmoid'))\n",
    "m3.compile(loss='mean_squared_error', optimizer = keras.optimizers.Adam())\n",
    "history3 = m3.fit(mfx_train, mfx_train, batch_size=128, epochs=10, verbose=1, \n",
    "                validation_data=(mfx_test, mfx_test))\n",
    "encoder3 = keras.models.Model(m3.input, m3.get_layer('hidden').output)\n",
    "Zenc3 = encoder3.predict(mfeat)  # dataset reduit en n=2\n",
    "Renc3 = m3.predict(mfeat)        # reconstruction de l'image a partir de se dataset reduit\n",
    "print(history3.history.keys())"
   ]
  },
  {
   "cell_type": "code",
   "execution_count": null,
   "metadata": {},
   "outputs": [],
   "source": [
    "np.savetxt(\"auto3.csv\", np.array(Zenc3), delimiter=\",\")"
   ]
  },
  {
   "cell_type": "code",
   "execution_count": null,
   "metadata": {},
   "outputs": [],
   "source": [
    "ux_train=pd.read_csv('ux_train.csv')\n",
    "ux_test=pd.read_csv('ux_test.csv')\n",
    "usps=pd.read_csv('usps.csv')"
   ]
  },
  {
   "cell_type": "code",
   "execution_count": null,
   "metadata": {},
   "outputs": [],
   "source": [
    "m4 = keras.models.Sequential()\n",
    "m4.add(keras.layers.Dense(500,  activation='relu', input_shape=(256,)))\n",
    "m4.add(keras.layers.Dense(250,  activation='relu'))\n",
    "m4.add(keras.layers.Dense(125,  activation='relu'))\n",
    "m4.add(keras.layers.Dense(2,    activation='linear', name=\"hidden\"))\n",
    "m4.add(keras.layers.Dense(125,  activation='relu'))\n",
    "m4.add(keras.layers.Dense(250,  activation='relu'))\n",
    "m4.add(keras.layers.Dense(500,  activation='relu'))\n",
    "m4.add(keras.layers.Dense(256,  activation='sigmoid'))\n",
    "m4.compile(loss='binary_crossentropy', optimizer = keras.optimizers.Adam())\n",
    "history4 = m4.fit(ux_train, ux_train, batch_size=128, epochs=15, verbose=1, \n",
    "                validation_data=(ux_test, ux_test))\n",
    "encoder4 = keras.models.Model(m4.input, m4.get_layer('hidden').output)\n",
    "Zenc4 = encoder4.predict(usps)  # dataset reduit en n=2\n",
    "Renc4 = m4.predict(usps)        # reconstruction de l'image a partir de se dataset reduit\n",
    "print(history4.history.keys())"
   ]
  },
  {
   "cell_type": "code",
   "execution_count": null,
   "metadata": {},
   "outputs": [],
   "source": []
  },
  {
   "cell_type": "code",
   "execution_count": null,
   "metadata": {},
   "outputs": [],
   "source": [
    "np.savetxt(\"auto4.csv\", np.array(Zenc4), delimiter=\",\")"
   ]
  },
  {
   "cell_type": "code",
   "execution_count": null,
   "metadata": {},
   "outputs": [],
   "source": [
    "ox_train=pd.read_csv('ox_train.csv')\n",
    "ox_test=pd.read_csv('ox_test.csv')\n",
    "optdigits=pd.read_csv('optdigits.csv')"
   ]
  },
  {
   "cell_type": "code",
   "execution_count": null,
   "metadata": {},
   "outputs": [],
   "source": []
  },
  {
   "cell_type": "code",
   "execution_count": null,
   "metadata": {},
   "outputs": [],
   "source": [
    "m5 = keras.models.Sequential()\n",
    "#m5.add(keras.layers.Dense(128,  activation='relu', input_shape=(64,)))\n",
    "m5.add(keras.layers.Dense(64,  activation='relu',input_shape=(64,)))\n",
    "m5.add(keras.layers.Dense(32,  activation='relu'))\n",
    "m5.add(keras.layers.Dense(2,    activation='linear', name=\"hidden\"))\n",
    "m5.add(keras.layers.Dense(32,  activation='relu'))\n",
    "m5.add(keras.layers.Dense(64,  activation='relu'))\n",
    "m5.add(keras.layers.Dense(128,  activation='relu'))\n",
    "m5.add(keras.layers.Dense(64,  activation='sigmoid'))\n",
    "m5.compile(loss='binary_crossentropy', optimizer = keras.optimizers.Adam())\n",
    "history5 = m5.fit(ox_train, ox_train, batch_size=32, epochs=50, verbose=1, \n",
    "                validation_data=(ox_test, ox_test))\n",
    "encoder5 = keras.models.Model(m5.input, m5.get_layer('hidden').output)\n",
    "Zenc5 = encoder5.predict(optdigits)  # dataset reduit en n=2\n",
    "Renc5 = m5.predict(optdigits)        # reconstruction de l'image a partir de se dataset reduit\n",
    "print(history5.history.keys())"
   ]
  },
  {
   "cell_type": "code",
   "execution_count": null,
   "metadata": {},
   "outputs": [],
   "source": [
    "np.savetxt(\"auto5.csv\", np.array(Zenc5), delimiter=\",\")"
   ]
  }
 ],
 "metadata": {
  "kernelspec": {
   "display_name": "Python 3",
   "language": "python",
   "name": "python3"
  },
  "language_info": {
   "codemirror_mode": {
    "name": "ipython",
    "version": 3
   },
   "file_extension": ".py",
   "mimetype": "text/x-python",
   "name": "python",
   "nbconvert_exporter": "python",
   "pygments_lexer": "ipython3",
   "version": "3.7.2"
  }
 },
 "nbformat": 4,
 "nbformat_minor": 2
}
