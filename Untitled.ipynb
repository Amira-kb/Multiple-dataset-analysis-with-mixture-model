{
 "cells": [
  {
   "cell_type": "code",
   "execution_count": 2,
   "metadata": {},
   "outputs": [],
   "source": [
    "import tensorflow as tf\n",
    "from tensorflow import keras\n",
    "import pandas as pd\n",
    "import numpy as np\n",
    "import matplotlib.pyplot as plt\n",
    "import csv"
   ]
  },
  {
   "cell_type": "code",
   "execution_count": 1,
   "metadata": {},
   "outputs": [
    {
     "ename": "NameError",
     "evalue": "name 'pd' is not defined",
     "output_type": "error",
     "traceback": [
      "\u001b[0;31m---------------------------------------------------------------------------\u001b[0m",
      "\u001b[0;31mNameError\u001b[0m                                 Traceback (most recent call last)",
      "\u001b[0;32m<ipython-input-1-7b16c410257b>\u001b[0m in \u001b[0;36m<module>\u001b[0;34m\u001b[0m\n\u001b[0;32m----> 1\u001b[0;31m \u001b[0mjx_train\u001b[0m\u001b[0;34m=\u001b[0m\u001b[0mpd\u001b[0m\u001b[0;34m.\u001b[0m\u001b[0mread_csv\u001b[0m\u001b[0;34m(\u001b[0m\u001b[0;34m'jx_train.csv'\u001b[0m\u001b[0;34m)\u001b[0m\u001b[0;34m\u001b[0m\u001b[0;34m\u001b[0m\u001b[0m\n\u001b[0m\u001b[1;32m      2\u001b[0m \u001b[0mjx_test\u001b[0m\u001b[0;34m=\u001b[0m\u001b[0mpd\u001b[0m\u001b[0;34m.\u001b[0m\u001b[0mread_csv\u001b[0m\u001b[0;34m(\u001b[0m\u001b[0;34m'jx_test.csv'\u001b[0m\u001b[0;34m)\u001b[0m\u001b[0;34m\u001b[0m\u001b[0;34m\u001b[0m\u001b[0m\n\u001b[1;32m      3\u001b[0m \u001b[0mjaffe\u001b[0m\u001b[0;34m=\u001b[0m\u001b[0mpd\u001b[0m\u001b[0;34m.\u001b[0m\u001b[0mread_csv\u001b[0m\u001b[0;34m(\u001b[0m\u001b[0;34m'jaffe.csv'\u001b[0m\u001b[0;34m)\u001b[0m\u001b[0;34m\u001b[0m\u001b[0;34m\u001b[0m\u001b[0m\n",
      "\u001b[0;31mNameError\u001b[0m: name 'pd' is not defined"
     ]
    }
   ],
   "source": [
    "jx_train=pd.read_csv('jx_train.csv')\n",
    "jx_test=pd.read_csv('jx_test.csv')\n",
    "jaffe=pd.read_csv('jaffe.csv')"
   ]
  },
  {
   "cell_type": "code",
   "execution_count": null,
   "metadata": {},
   "outputs": [],
   "source": [
    "jaffe.shape"
   ]
  },
  {
   "cell_type": "code",
   "execution_count": null,
   "metadata": {},
   "outputs": [],
   "source": [
    "d=np.array(jx_train)\n",
    "d[1,1]"
   ]
  },
  {
   "cell_type": "code",
   "execution_count": null,
   "metadata": {
    "scrolled": true
   },
   "outputs": [],
   "source": [
    "m = keras.models.Sequential()\n",
    "m.add(keras.layers.Dense(1000,  activation='relu', input_shape=(676,)))\n",
    "m.add(keras.layers.Dense(500,  activation='relu'))\n",
    "m.add(keras.layers.Dense(250,  activation='relu'))\n",
    "m.add(keras.layers.Dense(2,    activation='linear', name=\"hidden\"))\n",
    "m.add(keras.layers.Dense(250,  activation='relu'))\n",
    "m.add(keras.layers.Dense(500,  activation='relu'))\n",
    "m.add(keras.layers.Dense(1000,  activation='relu'))\n",
    "m.add(keras.layers.Dense(676,  activation='sigmoid'))\n",
    "m.compile(loss='mean_squared_error', optimizer = keras.optimizers.Adam())\n",
    "history = m.fit(jx_train, jx_train, batch_size=32, epochs=100, verbose=1, \n",
    "                validation_data=(jx_test, jx_test))\n",
    "encoder = keras.models.Model(m.input, m.get_layer('hidden').output)\n",
    "Zenc = encoder.predict(jaffe)  # dataset reduit en n=2\n",
    "Renc = m.predict(jx_test)        # reconstruction de l'image a partir de se dataset reduit\n",
    "print(history.history.keys())"
   ]
  },
  {
   "cell_type": "code",
   "execution_count": null,
   "metadata": {},
   "outputs": [],
   "source": [
    "Zenc"
   ]
  },
  {
   "cell_type": "code",
   "execution_count": null,
   "metadata": {},
   "outputs": [],
   "source": [
    "np.savetxt(\"auto.csv\", np.array(Zenc), delimiter=\",\")"
   ]
  },
  {
   "cell_type": "code",
   "execution_count": 10,
   "metadata": {},
   "outputs": [],
   "source": [
    "mx_train=pd.read_csv('mx_train.csv')\n",
    "mx_test=pd.read_csv('mx_test.csv')\n",
    "mnist=pd.read_csv('mnist.csv')"
   ]
  },
  {
   "cell_type": "code",
   "execution_count": 13,
   "metadata": {},
   "outputs": [
    {
     "name": "stdout",
     "output_type": "stream",
     "text": [
      "Train on 2800 samples, validate on 695 samples\n",
      "Epoch 1/10\n",
      "2800/2800 [==============================] - 3s 1ms/step - loss: 0.1142 - val_loss: 0.0793\n",
      "Epoch 2/10\n",
      "2800/2800 [==============================] - 2s 752us/step - loss: 0.0731 - val_loss: 0.0679\n",
      "Epoch 3/10\n",
      "2800/2800 [==============================] - 2s 754us/step - loss: 0.0663 - val_loss: 0.0644\n",
      "Epoch 4/10\n",
      "2800/2800 [==============================] - 2s 754us/step - loss: 0.0639 - val_loss: 0.0628\n",
      "Epoch 5/10\n",
      "2800/2800 [==============================] - 2s 758us/step - loss: 0.0611 - val_loss: 0.0587\n",
      "Epoch 6/10\n",
      "2800/2800 [==============================] - 2s 753us/step - loss: 0.0574 - val_loss: 0.0559\n",
      "Epoch 7/10\n",
      "2800/2800 [==============================] - 2s 748us/step - loss: 0.0554 - val_loss: 0.0540\n",
      "Epoch 8/10\n",
      "2800/2800 [==============================] - 2s 751us/step - loss: 0.0537 - val_loss: 0.0527\n",
      "Epoch 9/10\n",
      "2800/2800 [==============================] - 2s 755us/step - loss: 0.0529 - val_loss: 0.0522\n",
      "Epoch 10/10\n",
      "2800/2800 [==============================] - 2s 751us/step - loss: 0.0523 - val_loss: 0.0517\n",
      "dict_keys(['val_loss', 'loss'])\n"
     ]
    }
   ],
   "source": [
    "m2 = keras.models.Sequential()\n",
    "m2.add(keras.layers.Dense(1000,  activation='relu', input_shape=(784,)))\n",
    "m2.add(keras.layers.Dense(500,  activation='relu'))\n",
    "m2.add(keras.layers.Dense(250,  activation='relu'))\n",
    "m2.add(keras.layers.Dense(2,    activation='linear', name=\"hidden\"))\n",
    "m2.add(keras.layers.Dense(250,  activation='relu'))\n",
    "m2.add(keras.layers.Dense(500,  activation='relu'))\n",
    "m2.add(keras.layers.Dense(1000,  activation='relu'))\n",
    "m2.add(keras.layers.Dense(784,  activation='sigmoid'))\n",
    "m2.compile(loss='mean_squared_error', optimizer = keras.optimizers.Adam())\n",
    "history2 = m2.fit(mx_train, mx_train, batch_size=128, epochs=100, verbose=1, \n",
    "                validation_data=(mx_test, mx_test))\n",
    "encoder2 = keras.models.Model(m2.input, m2.get_layer('hidden').output)\n",
    "Zenc2 = encoder2.predict(mnist)  # dataset reduit en n=2\n",
    "Renc2 = m2.predict(mnist)        # reconstruction de l'image a partir de se dataset reduit\n",
    "print(history2.history.keys())"
   ]
  },
  {
   "cell_type": "code",
   "execution_count": 14,
   "metadata": {},
   "outputs": [],
   "source": [
    "np.savetxt(\"auto2.csv\", np.array(Zenc2), delimiter=\",\")"
   ]
  },
  {
   "cell_type": "code",
   "execution_count": null,
   "metadata": {},
   "outputs": [],
   "source": [
    "mfx_train=pd.read_csv('mfx_train.csv')\n",
    "mfx_test=pd.read_csv('mfx_test.csv')\n",
    "mfeat=pd.read_csv('mfeat.csv')"
   ]
  },
  {
   "cell_type": "code",
   "execution_count": null,
   "metadata": {},
   "outputs": [],
   "source": [
    "m3 = keras.models.Sequential()\n",
    "m3.add(keras.layers.Dense(250,  activation='relu', input_shape=(240,)))\n",
    "m3.add(keras.layers.Dense(125,  activation='relu'))\n",
    "m3.add(keras.layers.Dense(62,  activation='relu'))\n",
    "m3.add(keras.layers.Dense(10,    activation='linear', name=\"hidden\"))\n",
    "m3.add(keras.layers.Dense(62,  activation='relu'))\n",
    "m3.add(keras.layers.Dense(125,  activation='relu'))\n",
    "m3.add(keras.layers.Dense(250,  activation='relu'))\n",
    "m3.add(keras.layers.Dense(240,  activation='sigmoid'))\n",
    "m3.compile(loss='mean_squared_error', optimizer = keras.optimizers.Adam())\n",
    "history3 = m3.fit(mfx_train, mfx_train, batch_size=128, epochs=10, verbose=1, \n",
    "                validation_data=(mfx_test, mfx_test))\n",
    "encoder3 = keras.models.Model(m3.input, m3.get_layer('hidden').output)\n",
    "Zenc3 = encoder3.predict(mfeat)  # dataset reduit en n=2\n",
    "Renc3 = m3.predict(mfeat)        # reconstruction de l'image a partir de se dataset reduit\n",
    "print(history3.history.keys())"
   ]
  },
  {
   "cell_type": "code",
   "execution_count": null,
   "metadata": {},
   "outputs": [],
   "source": [
    "np.savetxt(\"auto3.csv\", np.array(Zenc3), delimiter=\",\")"
   ]
  },
  {
   "cell_type": "code",
   "execution_count": null,
   "metadata": {},
   "outputs": [],
   "source": [
    "ux_train=pd.read_csv('ux_train.csv')\n",
    "ux_test=pd.read_csv('ux_test.csv')\n",
    "usps=pd.read_csv('usps.csv')"
   ]
  },
  {
   "cell_type": "code",
   "execution_count": null,
   "metadata": {},
   "outputs": [],
   "source": [
    "m4 = keras.models.Sequential()\n",
    "m4.add(keras.layers.Dense(500,  activation='relu', input_shape=(256,)))\n",
    "m4.add(keras.layers.Dense(250,  activation='relu'))\n",
    "m4.add(keras.layers.Dense(125,  activation='relu'))\n",
    "m4.add(keras.layers.Dense(50,    activation='linear', name=\"hidden\"))\n",
    "m4.add(keras.layers.Dense(125,  activation='relu'))\n",
    "m4.add(keras.layers.Dense(250,  activation='relu'))\n",
    "m4.add(keras.layers.Dense(500,  activation='relu'))\n",
    "m4.add(keras.layers.Dense(256,  activation='sigmoid'))\n",
    "m4.compile(loss='binary_crossentropy', optimizer = keras.optimizers.Adam())\n",
    "history4 = m4.fit(ux_train, ux_train, batch_size=128, epochs=15, verbose=1, \n",
    "                validation_data=(ux_test, ux_test))\n",
    "encoder4 = keras.models.Model(m4.input, m4.get_layer('hidden').output)\n",
    "Zenc4 = encoder4.predict(usps)  # dataset reduit en n=2\n",
    "Renc4 = m4.predict(usps)        # reconstruction de l'image a partir de se dataset reduit\n",
    "print(history4.history.keys())"
   ]
  },
  {
   "cell_type": "code",
   "execution_count": null,
   "metadata": {},
   "outputs": [],
   "source": []
  },
  {
   "cell_type": "code",
   "execution_count": null,
   "metadata": {},
   "outputs": [],
   "source": [
    "np.savetxt(\"auto4.csv\", np.array(Zenc4), delimiter=\",\")"
   ]
  },
  {
   "cell_type": "code",
   "execution_count": 21,
   "metadata": {},
   "outputs": [],
   "source": [
    "ox_train=pd.read_csv('ox_train.csv')\n",
    "ox_test=pd.read_csv('ox_test.csv')\n",
    "optdigits=pd.read_csv('optdigits.csv')"
   ]
  },
  {
   "cell_type": "code",
   "execution_count": null,
   "metadata": {},
   "outputs": [],
   "source": []
  },
  {
   "cell_type": "code",
   "execution_count": 29,
   "metadata": {},
   "outputs": [
    {
     "name": "stdout",
     "output_type": "stream",
     "text": [
      "Train on 5063 samples, validate on 557 samples\n",
      "Epoch 1/50\n",
      "5063/5063 [==============================] - 3s 582us/step - loss: 0.4514 - val_loss: 0.3944\n",
      "Epoch 2/50\n",
      "5063/5063 [==============================] - 0s 88us/step - loss: 0.3855 - val_loss: 0.3807\n",
      "Epoch 3/50\n",
      "5063/5063 [==============================] - 0s 89us/step - loss: 0.3750 - val_loss: 0.3684\n",
      "Epoch 4/50\n",
      "5063/5063 [==============================] - 0s 89us/step - loss: 0.3590 - val_loss: 0.3542\n",
      "Epoch 5/50\n",
      "5063/5063 [==============================] - 1s 99us/step - loss: 0.3472 - val_loss: 0.3446\n",
      "Epoch 6/50\n",
      "5063/5063 [==============================] - 0s 94us/step - loss: 0.3404 - val_loss: 0.3404\n",
      "Epoch 7/50\n",
      "5063/5063 [==============================] - 1s 113us/step - loss: 0.3361 - val_loss: 0.3361\n",
      "Epoch 8/50\n",
      "5063/5063 [==============================] - 0s 96us/step - loss: 0.3333 - val_loss: 0.3339\n",
      "Epoch 9/50\n",
      "5063/5063 [==============================] - 1s 112us/step - loss: 0.3313 - val_loss: 0.3332\n",
      "Epoch 10/50\n",
      "5063/5063 [==============================] - 0s 96us/step - loss: 0.3295 - val_loss: 0.3309\n",
      "Epoch 11/50\n",
      "5063/5063 [==============================] - 0s 95us/step - loss: 0.3282 - val_loss: 0.3305\n",
      "Epoch 12/50\n",
      "5063/5063 [==============================] - 0s 98us/step - loss: 0.3264 - val_loss: 0.3286\n",
      "Epoch 13/50\n",
      "5063/5063 [==============================] - 1s 110us/step - loss: 0.3250 - val_loss: 0.3278\n",
      "Epoch 14/50\n",
      "5063/5063 [==============================] - 0s 94us/step - loss: 0.3238 - val_loss: 0.3262\n",
      "Epoch 15/50\n",
      "5063/5063 [==============================] - 0s 92us/step - loss: 0.3227 - val_loss: 0.3264\n",
      "Epoch 16/50\n",
      "5063/5063 [==============================] - 1s 99us/step - loss: 0.3215 - val_loss: 0.3240\n",
      "Epoch 17/50\n",
      "5063/5063 [==============================] - 1s 99us/step - loss: 0.3201 - val_loss: 0.3236\n",
      "Epoch 18/50\n",
      "5063/5063 [==============================] - 1s 101us/step - loss: 0.3191 - val_loss: 0.3230\n",
      "Epoch 19/50\n",
      "5063/5063 [==============================] - 1s 113us/step - loss: 0.3180 - val_loss: 0.3214\n",
      "Epoch 20/50\n",
      "5063/5063 [==============================] - 1s 109us/step - loss: 0.3169 - val_loss: 0.3208\n",
      "Epoch 21/50\n",
      "5063/5063 [==============================] - 0s 94us/step - loss: 0.3157 - val_loss: 0.3198\n",
      "Epoch 22/50\n",
      "5063/5063 [==============================] - 1s 106us/step - loss: 0.3151 - val_loss: 0.3183\n",
      "Epoch 23/50\n",
      "5063/5063 [==============================] - 1s 102us/step - loss: 0.3140 - val_loss: 0.3173\n",
      "Epoch 24/50\n",
      "5063/5063 [==============================] - 1s 113us/step - loss: 0.3129 - val_loss: 0.3172\n",
      "Epoch 25/50\n",
      "5063/5063 [==============================] - 1s 101us/step - loss: 0.3121 - val_loss: 0.3177\n",
      "Epoch 26/50\n",
      "5063/5063 [==============================] - 1s 103us/step - loss: 0.3111 - val_loss: 0.3158\n",
      "Epoch 27/50\n",
      "5063/5063 [==============================] - 0s 93us/step - loss: 0.3108 - val_loss: 0.3150\n",
      "Epoch 28/50\n",
      "5063/5063 [==============================] - 1s 102us/step - loss: 0.3100 - val_loss: 0.3152\n",
      "Epoch 29/50\n",
      "5063/5063 [==============================] - 1s 102us/step - loss: 0.3096 - val_loss: 0.3137\n",
      "Epoch 30/50\n",
      "5063/5063 [==============================] - 1s 104us/step - loss: 0.3088 - val_loss: 0.3150\n",
      "Epoch 31/50\n",
      "5063/5063 [==============================] - 0s 92us/step - loss: 0.3082 - val_loss: 0.3131\n",
      "Epoch 32/50\n",
      "5063/5063 [==============================] - 1s 103us/step - loss: 0.3078 - val_loss: 0.3134\n",
      "Epoch 33/50\n",
      "5063/5063 [==============================] - 0s 96us/step - loss: 0.3074 - val_loss: 0.3128\n",
      "Epoch 34/50\n",
      "5063/5063 [==============================] - 1s 107us/step - loss: 0.3067 - val_loss: 0.3129\n",
      "Epoch 35/50\n",
      "5063/5063 [==============================] - 0s 98us/step - loss: 0.3064 - val_loss: 0.3130\n",
      "Epoch 36/50\n",
      "5063/5063 [==============================] - 1s 105us/step - loss: 0.3058 - val_loss: 0.3119\n",
      "Epoch 37/50\n",
      "5063/5063 [==============================] - 0s 97us/step - loss: 0.3053 - val_loss: 0.3106\n",
      "Epoch 38/50\n",
      "5063/5063 [==============================] - 1s 103us/step - loss: 0.3049 - val_loss: 0.3108\n",
      "Epoch 39/50\n",
      "5063/5063 [==============================] - 1s 101us/step - loss: 0.3045 - val_loss: 0.3115\n",
      "Epoch 40/50\n",
      "5063/5063 [==============================] - 1s 104us/step - loss: 0.3040 - val_loss: 0.3096\n",
      "Epoch 41/50\n",
      "5063/5063 [==============================] - 1s 107us/step - loss: 0.3037 - val_loss: 0.3099\n",
      "Epoch 42/50\n",
      "5063/5063 [==============================] - 1s 104us/step - loss: 0.3031 - val_loss: 0.3098\n",
      "Epoch 43/50\n",
      "5063/5063 [==============================] - 0s 93us/step - loss: 0.3026 - val_loss: 0.3090\n",
      "Epoch 44/50\n",
      "5063/5063 [==============================] - 1s 101us/step - loss: 0.3023 - val_loss: 0.3086\n",
      "Epoch 45/50\n",
      "5063/5063 [==============================] - 0s 94us/step - loss: 0.3020 - val_loss: 0.3085\n",
      "Epoch 46/50\n",
      "5063/5063 [==============================] - 0s 95us/step - loss: 0.3018 - val_loss: 0.3078\n",
      "Epoch 47/50\n",
      "5063/5063 [==============================] - 1s 102us/step - loss: 0.3015 - val_loss: 0.3090\n",
      "Epoch 48/50\n",
      "5063/5063 [==============================] - 1s 113us/step - loss: 0.3015 - val_loss: 0.3077\n",
      "Epoch 49/50\n",
      "5063/5063 [==============================] - 0s 93us/step - loss: 0.3007 - val_loss: 0.3072\n",
      "Epoch 50/50\n",
      "5063/5063 [==============================] - 1s 103us/step - loss: 0.3004 - val_loss: 0.3081\n",
      "dict_keys(['val_loss', 'loss'])\n"
     ]
    }
   ],
   "source": [
    "m5 = keras.models.Sequential()\n",
    "#m5.add(keras.layers.Dense(128,  activation='relu', input_shape=(64,)))\n",
    "m5.add(keras.layers.Dense(64,  activation='relu',input_shape=(64,)))\n",
    "m5.add(keras.layers.Dense(32,  activation='relu'))\n",
    "m5.add(keras.layers.Dense(2,    activation='linear', name=\"hidden\"))\n",
    "m5.add(keras.layers.Dense(32,  activation='relu'))\n",
    "m5.add(keras.layers.Dense(64,  activation='relu'))\n",
    "m5.add(keras.layers.Dense(128,  activation='relu'))\n",
    "m5.add(keras.layers.Dense(64,  activation='sigmoid'))\n",
    "m5.compile(loss='binary_crossentropy', optimizer = keras.optimizers.Adam())\n",
    "history5 = m5.fit(ox_train, ox_train, batch_size=32, epochs=50, verbose=1, \n",
    "                validation_data=(ox_test, ox_test))\n",
    "encoder5 = keras.models.Model(m5.input, m5.get_layer('hidden').output)\n",
    "Zenc5 = encoder5.predict(optdigits)  # dataset reduit en n=2\n",
    "Renc5 = m5.predict(optdigits)        # reconstruction de l'image a partir de se dataset reduit\n",
    "print(history5.history.keys())"
   ]
  },
  {
   "cell_type": "code",
   "execution_count": 30,
   "metadata": {},
   "outputs": [],
   "source": [
    "np.savetxt(\"auto5.csv\", np.array(Zenc5), delimiter=\",\")"
   ]
  }
 ],
 "metadata": {
  "kernelspec": {
   "display_name": "Python 3",
   "language": "python",
   "name": "python3"
  },
  "language_info": {
   "codemirror_mode": {
    "name": "ipython",
    "version": 3
   },
   "file_extension": ".py",
   "mimetype": "text/x-python",
   "name": "python",
   "nbconvert_exporter": "python",
   "pygments_lexer": "ipython3",
   "version": "3.7.2"
  }
 },
 "nbformat": 4,
 "nbformat_minor": 2
}
